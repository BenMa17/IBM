{
 "cells": [
  {
   "cell_type": "markdown",
   "id": "4f51b981-18e2-420c-8029-9539505cb5b1",
   "metadata": {},
   "source": [
    "# Data Science Tools and Ecosystem"
   ]
  },
  {
   "cell_type": "markdown",
   "id": "ba6105dd-63ab-4ece-802c-d796cbd70f2c",
   "metadata": {},
   "source": [
    "In this notebook, Data Science Tools and Ecosystem are summarized."
   ]
  },
  {
   "cell_type": "markdown",
   "id": "c8182ffe-d9a9-4aff-98c3-abfdd883fd8b",
   "metadata": {},
   "source": [
    "Some of the popular languages that Data Scientists use are:\n",
    "1. Python\n",
    "2. R\n",
    "3. Julia"
   ]
  },
  {
   "cell_type": "markdown",
   "id": "cc557b1d-bf78-4c0f-b95c-24554cfbcdad",
   "metadata": {},
   "source": [
    "Some of the commonly used libraries used by Data Scientists include:\n",
    "1. numpy\n",
    "2. pandas\n",
    "3. seaborn"
   ]
  },
  {
   "cell_type": "markdown",
   "id": "39276437-0923-447e-aaef-3251f134b738",
   "metadata": {},
   "source": [
    "\n",
    "| Data Science Tools |\n",
    "| --- |\n",
    "| R Studio | \n",
    "| VScode | \n",
    "| Jupyter Notebooks |\n"
   ]
  },
  {
   "cell_type": "markdown",
   "id": "d02dd251-ec2f-48a2-b603-f4eb84a9654b",
   "metadata": {},
   "source": [
    "### Below are a few examples of evaluating arithmetic expressions in Python"
   ]
  },
  {
   "cell_type": "code",
   "execution_count": 1,
   "id": "30e0e0ae-f762-4a22-804e-3e713c0a85b5",
   "metadata": {},
   "outputs": [
    {
     "name": "stdout",
     "output_type": "stream",
     "text": [
      "17\n"
     ]
    }
   ],
   "source": [
    "print((3*4)+5)"
   ]
  },
  {
   "cell_type": "code",
   "execution_count": 3,
   "id": "2f3a06e0-fdb7-4983-85c1-00912ff65027",
   "metadata": {},
   "outputs": [
    {
     "name": "stdout",
     "output_type": "stream",
     "text": [
      "3.3333333333333335\n"
     ]
    }
   ],
   "source": [
    "print(200/60)"
   ]
  },
  {
   "cell_type": "markdown",
   "id": "dc49ff9a-35e3-4e1e-bb17-303c8b538474",
   "metadata": {},
   "source": [
    "**Objectives:** \n",
    "- List popular languages for Data Science\n",
    "- Learn the basics of Git\n",
    "- Learn the basics of R\n",
    "- Learn the basics of Jupyter Notebooks"
   ]
  },
  {
   "cell_type": "markdown",
   "id": "ea2982eb-e3e6-4271-8d73-89c9d268d010",
   "metadata": {},
   "source": [
    "## Author\n",
    "Benjamin Oyarzun"
   ]
  }
 ],
 "metadata": {
  "kernelspec": {
   "display_name": "Python 3 (ipykernel)",
   "language": "python",
   "name": "python3"
  },
  "language_info": {
   "codemirror_mode": {
    "name": "ipython",
    "version": 3
   },
   "file_extension": ".py",
   "mimetype": "text/x-python",
   "name": "python",
   "nbconvert_exporter": "python",
   "pygments_lexer": "ipython3",
   "version": "3.11.3"
  }
 },
 "nbformat": 4,
 "nbformat_minor": 5
}
